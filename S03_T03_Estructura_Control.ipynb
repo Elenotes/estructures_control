{
 "cells": [
  {
   "cell_type": "markdown",
   "id": "62fe76cc",
   "metadata": {},
   "source": [
    "# S03 T03: Estructura de control"
   ]
  },
  {
   "cell_type": "markdown",
   "id": "f02c6dae",
   "metadata": {},
   "source": [
    "### Nivell 1 - Exercici 1\n",
    "\n",
    "Crear un programa que et classifiqui una variable numèrica en funció de l’escala Suspès/Aprovat/Notable/Excel·lent. "
   ]
  },
  {
   "cell_type": "code",
   "execution_count": 10,
   "id": "c5ed0159",
   "metadata": {},
   "outputs": [
    {
     "name": "stdout",
     "output_type": "stream",
     "text": [
      "Quina nota has tret? (número entre 1 i 10): 125\n",
      "El valor introduit no és una nota vàlida!\n"
     ]
    }
   ],
   "source": [
    "# Demanem input a l'usuari\n",
    "try:\n",
    "    nota = float(input(\"Quina nota has tret? (número entre 1 i 10): \"))\n",
    "\n",
    "    if nota >= 0 and nota < 5:\n",
    "        print(\"Suspès\")\n",
    "    elif nota >= 5 and nota < 7:\n",
    "        print(\"Aprovat\")\n",
    "    elif nota >= 7 and nota < 9:\n",
    "        print(\"Notable\")\n",
    "    elif nota >= 9 and nota <=10:\n",
    "        print(\"Exce·lent\")\n",
    "    else:\n",
    "        print(\"El valor introduit no és una nota vàlida!\")\n",
    "except:\n",
    "    print(\"Només s'accepten valors numèrics!\")"
   ]
  },
  {
   "cell_type": "markdown",
   "id": "d15bf190",
   "metadata": {},
   "source": [
    "### Nivell 1 - Exercici 2\n",
    "\n",
    "Crea un programa que et pregunti dos números. T’ha de mostrar un missatge dient si el primer és més gran, el segon és més gran o són iguals."
   ]
  },
  {
   "cell_type": "code",
   "execution_count": 24,
   "id": "e8309ecd",
   "metadata": {},
   "outputs": [
    {
     "name": "stdout",
     "output_type": "stream",
     "text": [
      "Escriu un número: 55\n",
      "Escriu un altre número: 69.3\n",
      "Només s'accepten valors enters!\n"
     ]
    }
   ],
   "source": [
    "try:\n",
    "    # demanem els dos numeros a l'usuari\n",
    "    n1 = int(input(\"Escriu un número: \"))\n",
    "    n2 = int(input(\"Escriu un altre número: \"))\n",
    "\n",
    "    # validem quin és més gran:\n",
    "    if n1 > n2:\n",
    "        print(\"El número {} és més gran que el {}.\".format(n1, n2))\n",
    "    elif n2 > n1:\n",
    "        print(\"El número {} és més gran que el {}.\".format(n2, n1))\n",
    "    else:\n",
    "        print(\"Els dos números són iguals.\")\n",
    "except:\n",
    "    print(\"Només s'accepten valors enters!\")\n",
    "    "
   ]
  },
  {
   "cell_type": "markdown",
   "id": "2dc00abb",
   "metadata": {},
   "source": [
    "### Nivell 1 - Exercici 3\n",
    "\n",
    "Crea un programa que et pregunti el teu nom, i et demani un número. Si el número és 0, hauria de mostrar un missatge d’error. En cas contrari, hauria de mostrar el nom repetit tants cops com indiqui el número. Per exemple, “Joan Joan Joan”."
   ]
  },
  {
   "cell_type": "code",
   "execution_count": 31,
   "id": "3526103f",
   "metadata": {},
   "outputs": [
    {
     "name": "stdout",
     "output_type": "stream",
     "text": [
      "Com et dius? pep\n",
      "Escriu un número enter: 4\n",
      "pep pep pep pep \n"
     ]
    }
   ],
   "source": [
    "# demanem nom i número a usuari\n",
    "nom = input(\"Com et dius? \")\n",
    "num = int(input(\"Escriu un número enter: \"))\n",
    "\n",
    "nom = nom + \" \"\n",
    "if num > 0:\n",
    "    print(nom * num)\n",
    "else:\n",
    "    print(\"Valor no vàlid!\")\n"
   ]
  },
  {
   "cell_type": "markdown",
   "id": "289d278d",
   "metadata": {},
   "source": [
    "### Nivell 1 - Exercici 4\n",
    "\n",
    "Crea un programa que donada una llista qualsevol, et digui si es simètrica o no. Si ho és, que et digui quants elements té."
   ]
  },
  {
   "cell_type": "code",
   "execution_count": 50,
   "id": "516f74f8",
   "metadata": {},
   "outputs": [
    {
     "name": "stdout",
     "output_type": "stream",
     "text": [
      "Crearàs una llista de números, de quants números vols que sigui la llista? 10\n",
      "Entra un número: 0\n",
      "Entra un número: 1\n",
      "Entra un número: 3\n",
      "Entra un número: 5\n",
      "Entra un número: 7\n",
      "Entra un número: 8\n",
      "Entra un número: 9\n",
      "Entra un número: 11\n",
      "Entra un número: 8\n",
      "Entra un número: 9\n",
      "La llista introduïda no és simètrica.\n"
     ]
    }
   ],
   "source": [
    "# per crear la llista, demanarem inputs a l'usuari\n",
    "val = int(input(\"Crearàs una llista de números, de quants números vols que sigui la llista? \"))\n",
    "\n",
    "# creem una llista buida on anirem guardant els valors introduits per l'usuari\n",
    "llista = []\n",
    "\n",
    "for i in range(val):\n",
    "    n = int(input(\"Entra un número: \"))\n",
    "    llista.append(n)\n",
    "\n",
    "# fem una copia de la llista original i la posem al revés\n",
    "llista_revers = llista.copy()\n",
    "llista_revers. reverse()\n",
    "\n",
    "\n",
    "# si la llista és igual del dret i del revés, és simàtrica, sinó, no.\n",
    "if llista == llista_revers:\n",
    "    print(\"La llista introduïda és simètrica i té \" + str(len(llista)) + \" elements.\")\n",
    "else:\n",
    "    print(\"La llista introduïda no és simètrica.\")\n",
    "\n"
   ]
  },
  {
   "cell_type": "markdown",
   "id": "120bf43b",
   "metadata": {},
   "source": [
    "### Nivell 1 - Exercici 5\n",
    "\n",
    "Crea un programa que donada una llista, et digui quants números coincideixen amb la seva posició. Per exemple [3,4,2,0,2,3,6] el 2 i el 6 coincideixen."
   ]
  },
  {
   "cell_type": "code",
   "execution_count": 51,
   "id": "433b13c8",
   "metadata": {},
   "outputs": [
    {
     "name": "stdout",
     "output_type": "stream",
     "text": [
      "De la llista [0, 1, 3, 5, 7, 8, 9, 11, 8, 9], hi ha 4 elements que coincideixen amb el seu index: [0, 1, 8, 9].\n"
     ]
    }
   ],
   "source": [
    "# aprofitem la llista creada en l'exercici anterior\n",
    "\n",
    "# creem un comptador pel numeros que coincideixen\n",
    "cont = 0\n",
    "coincidents = []\n",
    "\n",
    "for i in range(len(llista)):\n",
    "    if i == llista[i]:\n",
    "        cont += 1\n",
    "        coincidents.append(i)\n",
    "\n",
    "print(\"De la llista {}, hi ha {} elements que coincideixen amb el seu index: {}.\".format(llista, cont, coincidents))\n",
    "    \n",
    "    "
   ]
  },
  {
   "cell_type": "code",
   "execution_count": null,
   "id": "95721d6e",
   "metadata": {},
   "outputs": [],
   "source": []
  }
 ],
 "metadata": {
  "kernelspec": {
   "display_name": "Python 3",
   "language": "python",
   "name": "python3"
  },
  "language_info": {
   "codemirror_mode": {
    "name": "ipython",
    "version": 3
   },
   "file_extension": ".py",
   "mimetype": "text/x-python",
   "name": "python",
   "nbconvert_exporter": "python",
   "pygments_lexer": "ipython3",
   "version": "3.8.8"
  }
 },
 "nbformat": 4,
 "nbformat_minor": 5
}
